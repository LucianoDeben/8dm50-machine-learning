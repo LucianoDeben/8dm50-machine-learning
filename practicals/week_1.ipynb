{
 "cells": [
  {
   "cell_type": "markdown",
   "metadata": {},
   "source": [
    "# Getting started with the practicals\n",
    "\n",
    "***These notebooks are best viewed in Jupyter. GitHub might not display all content of the notebook properly.***\n",
    "\n",
    "## Goal of the practical exercises\n",
    "\n",
    "The exercises have two goals:\n",
    "\n",
    "1. Give you the opportunity to obtain 'hands-on' experience in implementing, training and evaluation machine learning models in Python. This experience will also help you better understand the theory covered during the lectures. \n",
    "\n",
    "2. Occasionally demonstrate some 'exam-style' questions that you can use as a reference when studying for the exam. Note however that the example questions are (as the name suggests) only examples and do not constitute a complete and sufficient list of 'things that you have to learn for the exam'. You can recognize example questions as (parts of) exercises by <font color=\"#770a0a\">this font color</font>.\n",
    "\n",
    "For each set of exercises (one Python notebook such as this one $==$ one set of exercises) you have to submit deliverables that will then be graded and constitute 25% of the final grade. Thus, the work that you do during the practicals has double contribution towards the final grade: as 25% direct contribution and as a preparation for the exam that will define the other 65% of the grade.\n",
    "\n",
    "## Deliverables\n",
    "\n",
    "For each set of exercises, you have to submit:\n",
    "1. Python functions and/or classes (`.py` files) that implement basic functionalities (e.g. a $k$-NN classifier) and \n",
    "2. A *single* Python notebook that contains the experiments, visualization and answer to the questions and math problems. *Do not submit your answers as Word or PDF documents (they will not be graded)*. The submitted code and notebook should run without errors and be able to fully reproduce the reported results.\n",
    "\n",
    "We recommend that you clone the provided notebooks (such as this one) and write your code in them. The following rubric will be used when grading the practical work:\n",
    "\n",
    "Component  | Insufficient | Satisfactory | Excellent\n",
    "--- | --- | --- | ---\n",
    "**Code** | Missing or incomplete code structure, runs with errors, lacks documentation | Self-contained, does not result in errors, contains some documentation, can be easily used to reproduce the reported results | User-friendly, well-structured (good separation of general functionality and experiments, i.e. between `.py` files and the Pyhthon notebook), detailed documentation, optimized for speed, <s>use of a version control system (such as GitHub)</s>\n",
    "**Answers to questions** | Incorrect, does not convey understanding of the material, appears to be copied from another source | Correct, conveys good understanding of the material, description in own words | Correct, conveys excellent level of understanding, makes connections between topics\n",
    "\n",
    "## A word on notation\n",
    "\n",
    "When we refer to Python variables, we will use a monospace font. For example, `X` is a Python variable that contains the data matrix. When we refer to mathematical variables, we will use the de-facto standard notation: $a$ or $\\lambda$ is a scalar variable, $\\boldsymbol{\\mathrm{w}}$ is a vector and $\\boldsymbol{\\mathrm{X}}$ is a matrix (e.g. a data matrix from the example above). You should use the same notation when writing your answers and solutions.\n",
    "\n",
    "# Two simple machine learning models\n",
    "\n",
    "## Preliminaries\n",
    "\n",
    "Throughout the practical curriculum of this course, we will use the Python programming language and its ecosystem of libraries for scientific computing (such as `numpy`, `scipy`, `matplotlib`, `scikit-learn` etc). The practicals for the deep learning part of the course will use the `keras` deep learning framework. If you are not sufficiently familiar with this programming language and/or the listed libraries and packages, you are strongly advised to go over the corresponding tutorials from the ['Essential skills'](https://github.com/tueimage/essential-skills) module (the `scikit-learn` library is not covered by the tutorial, however, an extensive documentation is available [here](https://scikit-learn.org/stable/documentation.html).\n",
    "\n",
    "In this first set of exercises, we will use two toy datasets that ship together with `scikit-learn`. \n",
    "\n",
    "The first dataset is named `diabetes` and contains 442 patients described with 10 features: age, sex, body mass index, average blood pressure, and six blood serum measurements. The target variable is a continuous quantitative measure of the disease (diabetes) progression one year after the baseline measurements were recorded. More information is available [here](https://github.com/scikit-learn/scikit-learn/blob/master/sklearn/datasets/descr/diabetes.rst) and [here](https://www4.stat.ncsu.edu/~boos/var.select/diabetes.html).\n",
    "\n",
    "The second dataset is named `breast_cancer` and is a copy of the UCI ML Breast Cancer Wisconsin (Diagnostic) datasets (more infortmation is available [here](https://github.com/scikit-learn/scikit-learn/blob/master/sklearn/datasets/descr/breast_cancer.rst) and [here](https://archive.ics.uci.edu/ml/datasets/Breast+Cancer+Wisconsin+(Diagnostic)). The datasets contains of 569 instances represented with 30 features that are computed from a images of a fine needle aspirate of a breast mass. The features describe characteristics of the cell nuclei present in the image. Each instance is associated with a binary target variable ('malignant' or 'benign'). \n",
    "\n",
    "You can load the two datasets in the following way:"
   ]
  },
  {
   "cell_type": "code",
   "execution_count": 1,
   "metadata": {},
   "outputs": [],
   "source": [
    "import numpy as np\n",
    "from sklearn.datasets import load_diabetes, load_breast_cancer\n",
    "\n",
    "diabetes = load_diabetes()\n",
    "\n",
    "breast_cancer = load_breast_cancer()"
   ]
  },
  {
   "cell_type": "markdown",
   "metadata": {},
   "source": [
    "In the majority of the exercises in this course, we will use higher-level libraries and packages such as `scikit-learn` and `keras` to implement, train and evaluate machine learning models. However, the goal of this first set of exercises is to illustrate basic mathematical tools and machine learning concepts. Because of this, we will impose a restriction of only using basic `numpy` functionality. Furthermore, you should as much as possible restrict the use of for-loops (e.g. use a vector-to-matrix product instead of a for loop when appropriate).\n",
    "\n",
    "If `X` is a 2D data matrix, we will use the convention that the rows of the matrix contain the samples (or instances) and the columns contain the features (inputs to the model). That means that a data matrix with a shape `(122, 13)` represents a dataset with 122 samples, each represented with 13 features. Similarly, if `Y` is a 2D matrix containing the targets, the rows correspond to the samples and the columns to the different targets (outputs of the model). Thus, if the shape of `Y` is `(122, 3)` that means that there are 122 samples and each sample is has 3 targets (note that in the majority of the examples we will only have a single target and thus the number of columns of `Y` will be 1).\n",
    "\n",
    "You can obtain the data and target matrices from the two datasets in the following way:"
   ]
  },
  {
   "cell_type": "code",
   "execution_count": 2,
   "metadata": {},
   "outputs": [
    {
     "name": "stdout",
     "output_type": "stream",
     "text": [
      "(442, 10)\n",
      "(442, 1)\n"
     ]
    }
   ],
   "source": [
    "X = diabetes.data\n",
    "Y = diabetes.target[:, np.newaxis]\n",
    "\n",
    "print(X.shape)\n",
    "print(Y.shape)"
   ]
  },
  {
   "cell_type": "markdown",
   "metadata": {},
   "source": [
    "If you want to only use a subset of the available features, you can obtain a reduced data matrix in the following way:"
   ]
  },
  {
   "cell_type": "code",
   "execution_count": 3,
   "metadata": {
    "scrolled": true
   },
   "outputs": [
    {
     "name": "stdout",
     "output_type": "stream",
     "text": [
      "(442, 1)\n",
      "(442, 2)\n"
     ]
    }
   ],
   "source": [
    "# use only the fourth feature\n",
    "X = diabetes.data[:, np.newaxis, 3]\n",
    "print(X.shape)\n",
    "\n",
    "# use the third, and tenth features\n",
    "X = diabetes.data[:, (3,9)]\n",
    "print(X.shape)"
   ]
  },
  {
   "cell_type": "markdown",
   "metadata": {},
   "source": [
    "***Question***: Why we need to use the `np.newaxis` expression in the examples above? \n",
    "\n",
    "**The np.newaxis expression is used to add an extra dimension to the X matrix. This is needed for reshaping the array to ensure compatibility for operations like broadcasting and vector operations or to maintain the correct dimensions after slicing in this case. For example, if you slice the 4th feature from the original matrix and want to keep the result as a 2D array instead of reducing it to a 1D array, you can use np.newaxis to add the necessary dimension.**\n",
    "\n",
    "Note that in all your experiments in the exercises, you should use and independent training and testing sets. You can split the dataset into a training and testing subsets in the following way:"
   ]
  },
  {
   "cell_type": "code",
   "execution_count": 4,
   "metadata": {},
   "outputs": [
    {
     "name": "stdout",
     "output_type": "stream",
     "text": [
      "(300, 1)\n",
      "(300, 1)\n",
      "(142, 1)\n",
      "(142, 1)\n"
     ]
    }
   ],
   "source": [
    "# use the fourth feature\n",
    "# use the first 300 training samples for training, and the rest for testing\n",
    "X_train = diabetes.data[:300, np.newaxis, 3]\n",
    "y_train = diabetes.target[:300, np.newaxis]\n",
    "X_test = diabetes.data[300:, np.newaxis, 3]\n",
    "y_test = diabetes.target[300:, np.newaxis]\n",
    "print(X_train.shape)\n",
    "print(y_train.shape)\n",
    "print(X_test.shape)\n",
    "print(y_test.shape)"
   ]
  },
  {
   "cell_type": "markdown",
   "metadata": {},
   "source": [
    "## Exercises\n",
    "\n",
    "### Linear regression\n",
    "\n",
    "Implement training and evaluation of a linear regression model on the diabetes dataset using only matrix multiplication, inversion and transpose operations. Report the mean squared error of the model.\n",
    "\n",
    "To get you started we have implemented the first part of this exercise (fitting of the model) as an example."
   ]
  },
  {
   "cell_type": "code",
   "execution_count": 5,
   "metadata": {},
   "outputs": [
    {
     "name": "stdout",
     "output_type": "stream",
     "text": [
      "Shape of beta: (11, 1)\n",
      "Shape of X_train: (142, 10)\n",
      "Shape of y_train: (300, 1)\n",
      "Shape of beta: (11, 1)\n",
      "Shape of X_test: (142, 11)\n",
      "Mean Squared Error (MSE): 2794.587000834297\n"
     ]
    }
   ],
   "source": [
    "import sys\n",
    "import numpy as np\n",
    "sys.path.append('code/')\n",
    "\n",
    "from linear_regression import lsq\n",
    "\n",
    "# Load the dataset\n",
    "X_train = diabetes.data[:300, :]\n",
    "y_train = diabetes.target[:300, np.newaxis] \n",
    "X_test = diabetes.data[300:, :]\n",
    "y_test = diabetes.target[300:, np.newaxis] \n",
    "\n",
    "# Fit the model and get beta\n",
    "beta = lsq(X_train, y_train)\n",
    "\n",
    "# Print shapes to verify\n",
    "print(\"Shape of beta:\", beta.shape)  # Should be (11, 1)\n",
    "print(\"Shape of X_train:\", X_test.shape)  # Should be (142, 10)\n",
    "print(\"Shape of y_train:\", y_train.shape)  # Should be (300, 1)\n",
    "\n",
    "# Add a column of ones to X_test for the bias term\n",
    "X_test = np.hstack([np.ones((X_test.shape[0], 1)), X_test])\n",
    "\n",
    "# Print shapes to verify\n",
    "print(\"Shape of beta:\", beta.shape)  # Should be (11, 1)\n",
    "print(\"Shape of X_test:\", X_test.shape)  # Should be (142, 11)\n",
    "\n",
    "# Predict the target values for the test set\n",
    "y_pred = X_test @ beta\n",
    "\n",
    "# Calculate the mean squared error (MSE)\n",
    "mse = np.mean((y_test - y_pred) ** 2)\n",
    "print(\"Mean Squared Error (MSE):\", mse)"
   ]
  },
  {
   "cell_type": "markdown",
   "metadata": {},
   "source": [
    "### Weighted linear regression\n",
    "\n",
    "Assume that in the dataset that you use to train a linear regression model, there are identical versions of some samples. This problem can be reformulated to a weighted linear regression problem where the matrices $\\boldsymbol{\\mathrm{X}}$ and $\\boldsymbol{\\mathrm{Y}}$ (or the vector $\\boldsymbol{\\mathrm{y}}$ if there is only a single target/output variable) contain only the unique data samples, and a vector $\\boldsymbol{\\mathrm{d}}$ is introduced that gives more weight to samples that appear multiple times in the original dataset (for example, the sample that appears 3 times has a corresponding weight of 3). \n",
    "\n",
    "<p><font color='#770a0a'>Derive the expression for the least-squares solution of a weighted linear regression model (note that in addition to the matrices $\\boldsymbol{\\mathrm{X}}$ and \\(\\boldsymbol{\\mathrm{Y}}\\), the solution should include a vector of weights \\boldsymbol{\\mathrm{d}}$).</font></p>"
   ]
  },
  {
   "cell_type": "markdown",
   "metadata": {},
   "source": [
    "---\n",
    "\n",
    "*source: https://en.wikipedia.org/wiki/Weighted_least_squares*\n",
    "\n",
    "To derive the expression for the least-squares solution of a weighted linear regression model, we start by considering the regular least squares problem. The solution to the ordinary least squares problem is given by:\n",
    "\n",
    "$$\n",
    "\\boldsymbol{\\beta} = (\\boldsymbol{X}^T \\boldsymbol{X})^{-1} \\boldsymbol{X}^T \\boldsymbol{y}\n",
    "$$\n",
    "\n",
    "In the weighted linear regression problem, the least-squares solution is modified to account for the weights associated with each data point. Let the matrix $\\boldsymbol{D}$ be a diagonal matrix that contains the weights $\\boldsymbol{d}$, where each diagonal element corresponds to the weight for the respective sample. The weighted least squares objective minimizes the following weighted sum of squared residuals:\n",
    "\n",
    "$$\n",
    "S(\\boldsymbol{\\beta}) = (\\boldsymbol{y} - \\boldsymbol{X} \\boldsymbol{\\beta})^T \\boldsymbol{D} (\\boldsymbol{y} - \\boldsymbol{X} \\boldsymbol{\\beta})\n",
    "$$\n",
    "\n",
    "This expression represents the sum of squared residuals weighted by $\\boldsymbol{D}$.\n",
    "\n",
    "### Deriving the Solution:\n",
    "\n",
    "To find the least-squares solution, we minimize $S(\\boldsymbol{\\beta})$ with respect to $\\boldsymbol{\\beta}$. We start by expanding the expression for $S(\\boldsymbol{\\beta})$:\n",
    "\n",
    "$$\n",
    "S(\\boldsymbol{\\beta}) = (\\boldsymbol{y}^T - \\boldsymbol{\\beta}^T \\boldsymbol{X}^T) \\boldsymbol{D} (\\boldsymbol{y} - \\boldsymbol{X} \\boldsymbol{\\beta})\n",
    "$$\n",
    "\n",
    "Expanding this further:\n",
    "\n",
    "$$\n",
    "S(\\boldsymbol{\\beta}) = \\boldsymbol{y}^T \\boldsymbol{D} \\boldsymbol{y} - 2 \\boldsymbol{y}^T \\boldsymbol{D} \\boldsymbol{X} \\boldsymbol{\\beta} + \\boldsymbol{\\beta}^T \\boldsymbol{X}^T \\boldsymbol{D} \\boldsymbol{X} \\boldsymbol{\\beta}\n",
    "$$\n",
    "\n",
    "To minimize this, we take the derivative of $S(\\boldsymbol{\\beta})$ with respect to $\\boldsymbol{\\beta}$ and set it to zero:\n",
    "\n",
    "$$\n",
    "\\frac{\\partial S(\\boldsymbol{\\beta})}{\\partial \\boldsymbol{\\beta}} = -2 \\boldsymbol{X}^T \\boldsymbol{D} \\boldsymbol{y} + 2 \\boldsymbol{X}^T \\boldsymbol{D} \\boldsymbol{X} \\boldsymbol{\\beta} = 0\n",
    "$$\n",
    "\n",
    "Simplifying:\n",
    "\n",
    "$$\n",
    "\\boldsymbol{X}^T \\boldsymbol{D} \\boldsymbol{y} = \\boldsymbol{X}^T \\boldsymbol{D} \\boldsymbol{X} \\boldsymbol{\\beta}\n",
    "$$\n",
    "\n",
    "Finally, solving for $\\boldsymbol{\\beta}$:\n",
    "\n",
    "$$\n",
    "\\boldsymbol{\\beta} = (\\boldsymbol{X}^T \\boldsymbol{D} \\boldsymbol{X})^{-1} \\boldsymbol{X}^T \\boldsymbol{D} \\boldsymbol{y}\n",
    "$$\n",
    "\n",
    "### Final Weighted Least-Squares Solution:\n",
    "\n",
    "$$\n",
    "\\boxed{\\boldsymbol{\\beta} = (\\boldsymbol{X}^T \\boldsymbol{D} \\boldsymbol{X})^{-1} \\boldsymbol{X}^T \\boldsymbol{D} \\boldsymbol{y}}\n",
    "$$\n",
    "\n",
    "Where:\n",
    "- $\\boldsymbol{X}$ is the matrix of input data.\n",
    "- $\\boldsymbol{y}$ is the target vector (or matrix if there are multiple outputs).\n",
    "- $\\boldsymbol{D}$ is the diagonal matrix of weights, where each diagonal element $d_i$ represents the weight for the corresponding sample.\n",
    "\n",
    "This formula accounts for the fact that some samples appear multiple times or have different importance by weighting them appropriately in the least squares solution.\n",
    "\n",
    "---"
   ]
  },
  {
   "cell_type": "markdown",
   "metadata": {},
   "source": [
    "### $k$-NN classification\n",
    "\n",
    "Implement a $k$-Nearest neighbors classifier from scratch in Python using only basic matrix operations with `numpy` and `scipy`. Train and evaluate the classifier on the breast cancer dataset, using all features. Show the performance of the classifier for different values of $k$ (plot the results in a graph). Note that for optimal results, you should normalize the features (e.g. to the $[0, 1]$ range or to have a zero mean and unit standard deviation)."
   ]
  },
  {
   "cell_type": "code",
   "execution_count": 6,
   "metadata": {},
   "outputs": [
    {
     "name": "stderr",
     "output_type": "stream",
     "text": [
      "d:\\Programming\\8DM50\\8dm50-machine-learning\\practicals\\code\\knn.py:12: FutureWarning: Unlike other reduction functions (e.g. `skew`, `kurtosis`), the default behavior of `mode` typically preserves the axis it acts along. In SciPy 1.11.0, this behavior will change: the default value of `keepdims` will become False, the `axis` over which the statistic is taken will be eliminated, and the value None will no longer be accepted. Set `keepdims` to True or False to avoid this warning.\n",
      "  most_common_label = mode(k_neighbors_labels).mode[0]\n"
     ]
    },
    {
     "data": {
      "image/png": "[encoded data removed]",
      "text/plain": [
       "<Figure size 1000x600 with 1 Axes>"
      ]
     },
     "metadata": {},
     "output_type": "display_data"
    }
   ],
   "source": [
    "from knn import knn\n",
    "from sklearn.preprocessing import MinMaxScaler\n",
    "from sklearn.model_selection import train_test_split\n",
    "import matplotlib.pyplot as plt\n",
    "\n",
    "# Load the breast cancer dataset\n",
    "X = breast_cancer.data\n",
    "y = breast_cancer.target\n",
    "\n",
    "# Normalize the features to the [0, 1] range\n",
    "scaler = MinMaxScaler()\n",
    "X_normalized = scaler.fit_transform(X)\n",
    "\n",
    "# Split the dataset into training and testing sets\n",
    "X_train, X_test, y_train, y_test = train_test_split(X_normalized, y, test_size=0.2, random_state=42)\n",
    "\n",
    "# Evaluate the classifier for different values of k\n",
    "k_values = range(1, 21)\n",
    "accuracies = []\n",
    "\n",
    "for k in k_values:\n",
    "    y_pred = knn(X_train, y_train, X_test, k)\n",
    "    accuracy = np.mean(y_pred == y_test)\n",
    "    accuracies.append(accuracy)\n",
    "\n",
    "# Plot the results\n",
    "plt.figure(figsize=(10, 6))\n",
    "plt.plot(k_values, accuracies, marker='o')\n",
    "plt.title('k-NN Classifier Accuracy for Different k Values')\n",
    "plt.xlabel('k')\n",
    "plt.ylabel('Accuracy')\n",
    "plt.grid(True)\n",
    "plt.show()\n"
   ]
  },
  {
   "cell_type": "markdown",
   "metadata": {},
   "source": [
    "### $k$-NN regression\n",
    "\n",
    "Modify the $k$-NN implementation to do regression instead of classification. Compare the performance of the linear regression model and the $k$-NN regression model on the diabetes dataset for different values of $k$.."
   ]
  },
  {
   "cell_type": "markdown",
   "metadata": {},
   "source": [
    "### Class-conditional probability\n",
    "\n",
    "Compute and visualize the class-conditional probability (conditional probability where the class label is the conditional variable, i.e. $P(X = x \\mid Y = y_i)$ for all features in the breast cancer dataset. Assume a Gaussian distribution.\n",
    "\n",
    "<p><font color='#770a0a'>Based on visual analysis of the plots, which individual feature can best discriminate between the two classes? Motivate your answer.</font></p>\n",
    "\n"
   ]
  }
 ],
 "metadata": {
  "kernelspec": {
   "display_name": "Python 3",
   "language": "python",
   "name": "python3"
  },
  "language_info": {
   "codemirror_mode": {
    "name": "ipython",
    "version": 3
   },
   "file_extension": ".py",
   "mimetype": "text/x-python",
   "name": "python",
   "nbconvert_exporter": "python",
   "pygments_lexer": "ipython3",
   "version": "3.11.5"
  }
 },
 "nbformat": 4,
 "nbformat_minor": 2
}
